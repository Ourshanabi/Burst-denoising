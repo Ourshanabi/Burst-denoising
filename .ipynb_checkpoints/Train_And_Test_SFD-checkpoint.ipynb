{
 "cells": [
  {
   "cell_type": "code",
   "execution_count": 1,
   "metadata": {},
   "outputs": [],
   "source": [
    "import torch\n",
    "import torch.nn as nn\n",
    "import torch.optim as optim\n",
    "from torch.utils.data import DataLoader\n",
    "\n",
    "from ImagesloaderRAM import *\n",
    "from Trainfunction import *\n",
    "from Savemodel import *\n",
    "from Mycudatransformation import *\n",
    "from MynnModule import *\n",
    "from PSNR import *\n",
    "\n",
    "import torchvision.transforms as T\n",
    "import torchvision.utils as tu\n",
    "\n",
    "import numpy as np\n",
    "\n",
    "\n",
    "from time import time\n",
    "\n",
    "dtype = torch.FloatTensor\n",
    "gpu_dtype=torch.cuda.FloatTensor"
   ]
  },
  {
   "cell_type": "code",
   "execution_count": 5,
   "metadata": {},
   "outputs": [
    {
     "name": "stdout",
     "output_type": "stream",
     "text": [
      "using device: cuda\n"
     ]
    }
   ],
   "source": [
    "USE_GPU = True\n",
    "\n",
    "if USE_GPU and torch.cuda.is_available():\n",
    "    device = torch.device('cuda')\n",
    "else:\n",
    "    device = torch.device('cpu')\n",
    "    \n",
    "    \n",
    "print('using device:', device)"
   ]
  },
  {
   "cell_type": "markdown",
   "metadata": {},
   "source": [
    "# Train and Test the single frame denoiser\n",
    "## Train"
   ]
  },
  {
   "cell_type": "code",
   "execution_count": null,
   "metadata": {},
   "outputs": [],
   "source": [
    "# Loading the dataset of images\n",
    "\n",
    "\n",
    "Data_preprocessing=T.Compose([ T.RandomCrop(64),\n",
    "                                        T.ToTensor()])  \n",
    "                                        \n",
    "trainset = ImageFolderRAM('./train',0.1,Data_preprocessing,Randomnoise=False, loader= RGB_loader, loadram='cpu')\n",
    "\n",
    "trainloader = torch.utils.data.DataLoader(trainset, shuffle=True, batch_size=64,num_workers=0)\n",
    "\n"
   ]
  },
  {
   "cell_type": "markdown",
   "metadata": {},
   "source": [
    "### Training from scratch"
   ]
  },
  {
   "cell_type": "code",
   "execution_count": 6,
   "metadata": {},
   "outputs": [],
   "source": [
    "# Choose the model of neural networks architectures \n",
    "Denoiser = SSFD_C().to(device)\n",
    "\n",
    "# Choose the loss function \n",
    "loss = nn.L1Loss().to(device)\n",
    "\n",
    "# Choose the Optimizer\n",
    "optimizer = optim.Adam(Denoiser.parameters(),lr=0.001, betas=(0.9, 0.999), eps=1e-08, weight_decay=0.00001, amsgrad=False)\n",
    "scheduler = optim.lr_scheduler.ReduceLROnPlateau(optimizer, mode='min', factor=0.9, patience=5000, verbose=True, threshold=0.0001, threshold_mode='rel', cooldown=0, min_lr=0, eps=1e-08)\n",
    "\n"
   ]
  },
  {
   "cell_type": "code",
   "execution_count": null,
   "metadata": {},
   "outputs": [],
   "source": [
    "trainserver(Denoiser,trainloader, loss, optimizer, scheduler, num_epochs = 500000,save_every=25000,loss_every=3,filename='SSFD_G_NB')"
   ]
  },
  {
   "cell_type": "code",
   "execution_count": null,
   "metadata": {},
   "outputs": [],
   "source": [
    "def trainserver(model,loader_train, loss_fn, optimizer,scheduler, num_epochs = 1,save_every=1,loss_every=10,filename='denoiser'):\n",
    "    \n",
    "    loss_history=[]\n",
    "    for epoch in range(num_epochs):\n",
    "        print('Starting epoch %d / %d' % (epoch + 1, num_epochs))\n",
    "        model.train()\n",
    "        \n",
    "        for t, (x, y) in enumerate(loader_train):\n",
    "            if torch.cuda.is_available():\n",
    "                \n",
    "                x_var = Variable(x.type(gpu_dtype))\n",
    "                y_var = Variable(y.type(gpu_dtype))\n",
    "            \n",
    "            else: \n",
    "                x_var = Variable(x.type(dtype))\n",
    "                y_var = Variable(y.type(dtype))\n",
    "\n",
    "            scores = model(x_var)\n",
    "            \n",
    "            loss = loss_fn(scores, y_var)\n",
    "            \n",
    "            if (t + 1) % loss_every == 0:\n",
    "                print('t = %d, loss = %.4f' % (t + 1, loss.data))\n",
    "                loss_history.append(loss)\n",
    "                \n",
    "\n",
    "            optimizer.zero_grad()\n",
    "            loss.backward()\n",
    "            optimizer.step()\n",
    "        \n",
    "        if (epoch+1) % save_every == 0:\n",
    "                Save_modelloss(model,optimizer,loss_history,filename+'%s ' %int(epoch+1))\n",
    "                \n",
    "    \n",
    "        scheduler.step(loss.data)"
   ]
  },
  {
   "cell_type": "code",
   "execution_count": null,
   "metadata": {},
   "outputs": [],
   "source": []
  },
  {
   "cell_type": "markdown",
   "metadata": {},
   "source": [
    "## Test denoiser and save images"
   ]
  },
  {
   "cell_type": "code",
   "execution_count": null,
   "metadata": {},
   "outputs": [],
   "source": []
  },
  {
   "cell_type": "code",
   "execution_count": null,
   "metadata": {},
   "outputs": [],
   "source": []
  }
 ],
 "metadata": {
  "kernelspec": {
   "display_name": "Python 3",
   "language": "python",
   "name": "python3"
  },
  "language_info": {
   "codemirror_mode": {
    "name": "ipython",
    "version": 3
   },
   "file_extension": ".py",
   "mimetype": "text/x-python",
   "name": "python",
   "nbconvert_exporter": "python",
   "pygments_lexer": "ipython3",
   "version": "3.7.3"
  }
 },
 "nbformat": 4,
 "nbformat_minor": 2
}
